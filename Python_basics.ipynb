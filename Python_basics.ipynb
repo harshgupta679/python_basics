{
  "nbformat": 4,
  "nbformat_minor": 0,
  "metadata": {
    "colab": {
      "provenance": []
    },
    "kernelspec": {
      "name": "python3",
      "display_name": "Python 3"
    },
    "language_info": {
      "name": "python"
    }
  },
  "cells": [
    {
      "cell_type": "markdown",
      "source": [
        "1-    What is Python, and why is it popular?\n",
        "- Python is a high-level, easy-to-learn programming language with a\n",
        "simple, readable syntax.\n",
        "It’s widely used in web development, data science, AI, automation, and more.\n",
        "Its popularity comes from versatility, vast libraries, and strong community support.\n",
        "\n",
        "2-  What is an interpreter in Python?\n",
        "- An interpreter in Python reads and executes code line by line.\n",
        "It converts Python code into machine code during runtime.\n",
        "This makes debugging easier but can be slower than compiled languages.\n",
        "\n",
        "3- What are pre-defined keywords in Python?\n",
        "- Pre-defined keywords in Python are reserved words with special meanings.\n",
        "They define syntax and structure, like if, else, while, def, etc.\n",
        "You can’t use them as variable or function names.\n",
        "\n",
        "4- Can keywords be used as variable names?\n",
        "- No, keywords cannot be used as variable names in Python.\n",
        "\n",
        "5- What is mutability in Python?\n",
        "- Mutability in Python refers to whether an object’s value can change after creation.\n",
        "Mutable objects like lists, dictionaries can be changed.\n",
        "\n",
        "6- Why are lists mutable, but tuples are immutable?\n",
        "- Lists are mutable because they allow item changes, additions, or deletions after creation.\n",
        "Tuples are immutable to ensure data integrity and are faster due to fixed structure.\n",
        "\n",
        "7- What is the difference between “==” and “is” operators in Python?\n",
        "- == checks if values of two variables are equal.\n",
        "- is checks if two variables refer to the same object in memory.\n",
        "- So, == compares content, while is compares identity.\n",
        "\n",
        "8- What are logical operators in Python?\n",
        "- Logical operators in Python are used to combine conditional statements.\n",
        "The main ones are and, or, and not.\n",
        "They return Boolean values (True or False) based on logic.\n",
        "\n",
        "9- What is type casting in Python?\n",
        "- Type casting in Python means converting one data type to another.\n",
        "It is done using functions like int, float, str, etc.\n",
        "\n",
        "10-  What is the difference between implicit and explicit type casting?\n",
        "- Implicit casting is done automatically by Python (e.g., int to float).\n",
        "Explicit casting is manually done using functions like int, float.\n",
        "Explicit gives more control, while implicit ensures smooth operations.\n",
        "\n",
        "11- What is the purpose of conditional statements in Python?\n",
        "- Conditional statements let Python make decisions based on conditions.\n",
        "They use if, elif, and else to control code flow.\n",
        "This allows programs to react differently in different situations.\n",
        "\n",
        "12- How does the elif statement work?\n",
        "- The elif statement checks another condition if the previous if was False.\n",
        "It runs only if its condition is True, after checking earlier ones.\n",
        "It helps handle multiple conditions cleanly.\n",
        "\n",
        "13-What is the difference between for and while loops?\n",
        "- for loop iterates over a sequence (like list, range) a fixed number of times.\n",
        "while loop runs as long as a condition is True.\n",
        "Use for when the count is known, while when it's based on a condition.\n",
        "\n",
        "14- Describe a scenario where a while loop is more suitable than a for loop?\n",
        "- A while loop is better when you don’t know how many times to loop.\n",
        "Example: reading user input until they type \"exit\".\n",
        "It runs based on condition, not a fixed count"
      ],
      "metadata": {
        "id": "NxMrNs2Y8ivQ"
      }
    },
    {
      "cell_type": "code",
      "source": [
        "# QUESTION 1-   Write a Python program to print \"Hello, World!\"\n",
        "\n",
        "'''\n",
        "print(\"Hello, World\")\n",
        "'''"
      ],
      "metadata": {
        "id": "_Hyunsh87nIK"
      },
      "execution_count": null,
      "outputs": []
    },
    {
      "cell_type": "code",
      "source": [
        "# QUESTION 2-  Write a Python program that displays your name and age.\n",
        "\n",
        "'''\n",
        "name = input(\"Enter your name: \")\n",
        "age = input(\"Enter your age: \")\n",
        "\n",
        "print(\"Name:\", name)\n",
        "print(\"Age:\", age)\n",
        "'''"
      ],
      "metadata": {
        "id": "VdT_nQpZAXHR"
      },
      "execution_count": null,
      "outputs": []
    },
    {
      "cell_type": "code",
      "source": [
        "# QUESTION 3-  Write code to print all the pre-defined keywords in Python using the keyword library.\n",
        "\n",
        "'''\n",
        "import keyword\n",
        "\n",
        "print(\"Python Keywords:\")\n",
        "print(keyword.kwlist)\n",
        "'''"
      ],
      "metadata": {
        "id": "Dv7sdaOaBlEI"
      },
      "execution_count": null,
      "outputs": []
    },
    {
      "cell_type": "code",
      "source": [
        "# QUESTION 4-  Write a program that checks if a given word is a Python keyword.\n",
        "\n",
        "'''\n",
        "import keyword\n",
        "\n",
        "word = input(\"Enter a word: \")\n",
        "if keyword.iskeyword(word):\n",
        "    print(f\"'{word}' is a Python keyword.\")\n",
        "else:\n",
        "    print(f\"'{word}' is not a Python keyword.\")\n",
        "'''"
      ],
      "metadata": {
        "id": "-2BKhqlACgAC"
      },
      "execution_count": null,
      "outputs": []
    },
    {
      "cell_type": "code",
      "source": [
        "# QUESTION 5-  Create a list and tuple in Python, and demonstrate how attempting to change an element works differently for each.\n",
        "\n",
        "'''\n",
        "# Creating a list and a tuple\n",
        "my_list = [1, 2, 3]\n",
        "my_tuple = (1, 2, 3)\n",
        "\n",
        "# Modifying list element (works)\n",
        "my_list[0] = 10\n",
        "print(\"Modified list:\", my_list)\n",
        "\n",
        "# Modifying tuple element (causes error)\n",
        "my_tuple[0] = 10  # This will raise a TypeError\n",
        "'''\n",
        "\"the line my_tuple[0] = 10 causes a TypeError.\""
      ],
      "metadata": {
        "id": "11HA0ODeC6xA"
      },
      "execution_count": null,
      "outputs": []
    },
    {
      "cell_type": "code",
      "source": [
        "# QUESTION 6-  Write a function to demonstrate the behavior of mutable and immutable arguments.\n",
        "\n",
        "'''\n",
        "def modify_data(my_list, my_number):\n",
        "    my_list.append(4)       # Mutable: changes reflect outside\n",
        "    my_number += 10         # Immutable: change does not reflect outside\n",
        "    return my_list, my_number\n",
        "\n",
        "lst = [1, 2, 3]\n",
        "num = 5\n",
        "\n",
        "new_lst, new_num = modify_data(lst, num)\n",
        "print(\"Original list after function:\", lst)\n",
        "print(\"Original number after function:\", num)\n",
        "'''"
      ],
      "metadata": {
        "id": "V9TMOG78DoKx"
      },
      "execution_count": null,
      "outputs": []
    },
    {
      "cell_type": "code",
      "source": [
        "# QUESTION 7- . Write a program that performs basic arithmetic operations on two user-input numbers.\n",
        "\n",
        "'''\n",
        "a = float(input(\"Enter first number: \"))\n",
        "b = float(input(\"Enter second number: \"))\n",
        "\n",
        "print(\"Sum:\", a + b)\n",
        "print(\"Difference:\", a - b)\n",
        "print(\"Product:\", a * b)\n",
        "print(\"Quotient:\", a / b if b != 0 else \"Undefined (division by zero)\")\n",
        "'''"
      ],
      "metadata": {
        "id": "KGiD-h9RD0w2"
      },
      "execution_count": null,
      "outputs": []
    },
    {
      "cell_type": "code",
      "source": [
        "# QUESTION 8-  Write a program to demonstrate the use of logical operators.\n",
        "\n",
        "'''\n",
        "a = int(input(\"Enter a number: \"))\n",
        "\n",
        "if a > 0 and a < 10:\n",
        "    print(\"Number is between 1 and 9\")\n",
        "elif a < 0 or a > 100:\n",
        "    print(\"Number is less than 0 or greater than 100\")\n",
        "else:\n",
        "    print(\"Number is between 10 and 100\")\n",
        "\n",
        "# Using not\n",
        "if not a == 5:\n",
        "    print(\"Number is not equal to 5\")\n",
        "'''"
      ],
      "metadata": {
        "id": "I3KUXyldECWB"
      },
      "execution_count": null,
      "outputs": []
    },
    {
      "cell_type": "code",
      "source": [
        "# QUESTION 9- Write a Python program to convert user input from string to integer, float, and boolean types.\n",
        "\n",
        "'''\n",
        "user_input = input(\"Enter a value: \")\n",
        "\n",
        "int_val = int(user_input)\n",
        "float_val = float(user_input)\n",
        "bool_val = bool(user_input)\n",
        "\n",
        "print(\"Integer:\", int_val)\n",
        "print(\"Float:\", float_val)\n",
        "print(\"Boolean:\", bool_val)\n",
        "'''"
      ],
      "metadata": {
        "id": "TQj2Y1uzEVQo"
      },
      "execution_count": null,
      "outputs": []
    },
    {
      "cell_type": "code",
      "source": [
        "# QUESTION 10-  Write code to demonstrate type casting with list elements.\n",
        "\n",
        "'''\n",
        "str_list = ['1', '2', '3', '4']\n",
        "\n",
        "# Convert string elements to integers\n",
        "int_list = [int(x) for x in str_list]\n",
        "\n",
        "print(\"Original list:\", str_list)\n",
        "print(\"After type casting to integers:\", int_list)\n",
        "'''"
      ],
      "metadata": {
        "id": "92-exkD9ElJ3"
      },
      "execution_count": null,
      "outputs": []
    },
    {
      "cell_type": "code",
      "source": [
        "# QUESTION 11-  Write a program that checks if a number is positive, negative, or zero.\n",
        "\n",
        "'''\n",
        "num = float(input(\"Enter a number: \"))\n",
        "\n",
        "if num > 0:\n",
        "    print(\"Positive number\")\n",
        "elif num < 0:\n",
        "    print(\"Negative number\")\n",
        "else:\n",
        "    print(\"Zero\")\n",
        "'''"
      ],
      "metadata": {
        "colab": {
          "base_uri": "https://localhost:8080/",
          "height": 52
        },
        "id": "NYYzsvD3E52j",
        "outputId": "fedceb95-0c63-4858-be75-fbe5e5c1f00e"
      },
      "execution_count": 3,
      "outputs": [
        {
          "output_type": "execute_result",
          "data": {
            "text/plain": [
              "'\\nnum = float(input(\"Enter a number: \"))\\n\\nif num > 0:\\n    print(\"Positive number\")\\nelif num < 0:\\n    print(\"Negative number\")\\nelse:\\n    print(\"Zero\")\\n'"
            ],
            "application/vnd.google.colaboratory.intrinsic+json": {
              "type": "string"
            }
          },
          "metadata": {},
          "execution_count": 3
        }
      ]
    },
    {
      "cell_type": "code",
      "source": [
        "# QUESTION 12- Write a for loop to print numbers from 1 to 10.\n",
        "\n",
        "'''\n",
        "for i in range(1, 11):\n",
        "    print(i)\n",
        "'''"
      ],
      "metadata": {
        "id": "k6OL4FBrFJbZ"
      },
      "execution_count": null,
      "outputs": []
    },
    {
      "cell_type": "code",
      "source": [
        "# QUESTION 13-  Write a Python program to find the sum of all even numbers between 1 and 50.\n",
        "\n",
        "'''\n",
        "total = 0\n",
        "for i in range(2, 51, 2):\n",
        "    total += i\n",
        "print(\"Sum of even numbers from 1 to 50:\", total)\n",
        "'''"
      ],
      "metadata": {
        "id": "VfdVXxuZFaRG"
      },
      "execution_count": null,
      "outputs": []
    },
    {
      "cell_type": "code",
      "source": [
        "# QUESTION 14-  Write a program to reverse a string using a while loop.\n",
        "\n",
        "'''\n",
        "text = input(\"Enter a string: \")\n",
        "reversed_text = \"\"\n",
        "i = len(text) - 1\n",
        "\n",
        "while i >= 0:\n",
        "    reversed_text += text[i]\n",
        "    i -= 1\n",
        "\n",
        "print(\"Reversed string:\", reversed_text)\n",
        "'''"
      ],
      "metadata": {
        "id": "t8f28FmcFvTz"
      },
      "execution_count": null,
      "outputs": []
    },
    {
      "cell_type": "code",
      "source": [
        "# QUESTION 15- Write a Python program to calculate the factorial of a number provided by the user using a while loop.\n",
        "\n",
        "'''\n",
        "num = int(input(\"Enter a number: \"))\n",
        "factorial = 1\n",
        "i = 1\n",
        "\n",
        "while i <= num:\n",
        "    factorial *= i\n",
        "    i += 1\n",
        "\n",
        "print(\"Factorial of\", num, \"is\", factorial)\n",
        "'''"
      ],
      "metadata": {
        "id": "5MISLEBJF_0g"
      },
      "execution_count": null,
      "outputs": []
    }
  ]
}